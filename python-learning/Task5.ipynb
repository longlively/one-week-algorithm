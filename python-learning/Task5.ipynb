{
 "cells": [
  {
   "cell_type": "markdown",
   "metadata": {},
   "source": [
    "# 任务五\n",
    "\n",
    "## 1. file文件读取\n",
    "\n",
    "### 1.1 打开文件方式\n",
    "\n",
    "open() 方法用于打开一个文件，接收两个参数：文件名(file)和模式(mode)，并返回文件对象，在对文件进行处理过程都需要使用到这个函数，如果该文件无法被打开，会抛出 OSError。\n",
    "\n",
    "open(file, mode='r', buffering=None, encoding=None, errors=None, newline=None, closefd=True)\n",
    "\n",
    "* **file：** 必需，文件路径（相对或者绝对路径）\n",
    "\n",
    "* **mode：** 文件打开模式，默认为'r'\n",
    "\n",
    "* **buffering：** 设置缓冲\n",
    "\n",
    "* **encoding：** 默认根据系统平台选择\n",
    "\n",
    "* **errors：** 报错级别\n",
    "\n",
    "* **newline：** 区分换行符，如'\\n'，'\\r'\n",
    "\n",
    "* **closefd：** 为False时，当文件关闭，底层文件描述符将保持打开状态\n",
    "-------------------------------------------------------------\n",
    "* **mode常用模式：**\n",
    "\n",
    "**模式** | **描述**\n",
    "------- | -------\n",
    "r | 以只读方式打开文件（默认模式），文件必须存在，不存在抛出错误\n",
    "rb | 以二进制格式打开一个文件用于只读\n",
    "r+ | 打开一个文件用于读写，文件指针将会放在文件的开头，读完就追加\n",
    "w | 打开一个文件只用于写入。如果该文件已存在则将其覆盖；如果该文件不存在，创建新文件\n",
    "w+ | 打开一个文件用于读写。其余同w\n",
    "a | 打开一个文件用于追加。如果该文件已存在，新的内容将会被写入到已有内容之后。如果该文件不存在，创建新文件进行写入\n",
    "a+ | 打开一个文件用于读写。其余同a\n",
    "rb &#124; wb &#124; ab | 默认为文本模式，如果要以二进制模式打开，加上 b\n",
    "\n",
    "**注意：** 使用 open() 方法一定要保证关闭文件对象，即调用 close() 方法。\n",
    "\n",
    "\n",
    "### 1.2 文件对象的操作方法\n",
    "\n",
    "**方法** | **描述**\n",
    "------- | -------\n",
    "file.close() | 关闭文件,文件操作后记得关闭\n",
    "file.write(str) | 将字符串写入文件，返回的是写入的字符长度\n",
    "file.writelines(sequence) | 向文件写入一个序列字符串列表，如果需要换行则要自己加入每行的换行符\n",
    "file.next() | 返回文件下一行\n",
    "file.read(\\[size\\]) | 从文件读取指定的字节数，如果未给定或为负则读取所有\n",
    "file.readline(\\[size\\]) | 读取整行，包括 \"\\n\" 字符\n",
    "file.readlines(\\[sizeint\\]) | 读取所有行并返回列表，若给定sizeint>0，返回总和大约为sizeint字节的行, 实际读取值可能比 sizeint 较大, 因为需要填充缓冲区\n",
    "file.tell() | 返回文件当前位置\n",
    "file.seek(offset\\[, whence\\]) | 设置文件当前位置\n",
    "file.truncate(\\[size\\]) | 从文件的首行首字符开始截断，截断文件为 size 个字符\n",
    "file.flush() | 刷新文件内部缓冲，直接把内部缓冲区的数据立刻写入文件, 而不是被动的等待输出缓冲区写入\n",
    "file.fileno() | 返回一个整型的文件描述符(file descriptor FD 整型), 可以用在如os模块的read方法等一些底层操作上\n",
    "file.isatty() | 如果文件连接到一个终端设备返回 True，否则返回 False"
   ]
  },
  {
   "cell_type": "markdown",
   "metadata": {},
   "source": [
    "## 2. os模块\n",
    "\n",
    "### 2.1 简介\n",
    "\n",
    "os模块是Python标准库中的一个用于**访问操作系统功能**的模块。\n",
    "\n",
    "### 2.2 常用指令\n",
    "\n",
    "**函数** | **含义**\n",
    "------------ | -------------\n",
    "os.getcwd() | 获取当前目录,，相当于shell的(pwd)\n",
    "os.chdir(path) | 改变当前目录，(cd)\n",
    "os.curdir | 返回当前目录，(.)\n",
    "os.pardir | 获取当前目录的父目录，(..)\n",
    "os.mkdir(dir) | 生成单级目录，(mkdir)\n",
    "os.makedirs(path) | 可生成多层递归目录\n",
    "os.rmdir(dir) | 删除单级空目录\n",
    "os.removedirs(path) | 可删除多层递归的空目录，若目录中有文件则无法删除\n",
    "os.listdir(path) | 以列表形式，列出目录下所有文件和子目录，包括隐藏文件\n",
    "os.remove(file) | 删除一个文件，(rm)\n",
    "os.rename(old, new) | 重命名文件、目录，(mv old new)\n",
    "os.stat(path/file) | 获取目录/文件信息\n",
    "os.sep | 输出当前操作系统特定的路径分隔符，win(\\\\\\\\)，linux(/)\n",
    "os.linesep | 输出当前平台使用的行终止符，win(\\\\r\\\\n),linux(\\\\n)\n",
    "os.pathsep | 输出用于分隔文件路径的字符串\n",
    "os.name | 输出字符串表示当前平台，win(nt)，linux(posix)\n",
    "os.environ | 获取系统环境变量\n",
    "os.system('shell command') | 运行shell命令，直接显示\n",
    "os.path.abspath(path) | 返回path规范化的绝对路径\n",
    "os.path.split(path) | 将path分隔为目录和文件名，返回元组\n",
    "os.path.dirname(path)和os.path.basename(path)| 返回path的目录或文件名,即split的第一或二个返回值\n",
    "os.path.exists(path) | 根据path是否存在返回True或False\n",
    "os.path.isabs(path) | 如果是绝对路径，返回True\n",
    "os.path.isfile(path)和os.path.isdir(path) | 如果path是已经存在的文件或目录，则返回True\n",
    "os.path.join(path1, \\[path2\\], ...) | 将多个路径组合返回，第一个绝对路径前的参数将被忽略\n",
    "os.path.getatime(path)和os.path.getmtime(path) | 返回path指向的文件或目录最后存取或修改时间"
   ]
  },
  {
   "cell_type": "code",
   "execution_count": 1,
   "metadata": {},
   "outputs": [
    {
     "name": "stdout",
     "output_type": "stream",
     "text": [
      "C:\\Users\\Young\\python_basic-master\n"
     ]
    }
   ],
   "source": [
    "import os\n",
    "\n",
    "print(os.getcwd())"
   ]
  },
  {
   "cell_type": "markdown",
   "metadata": {},
   "source": [
    "## 3. datetime模块\n",
    "\n",
    "### 3.1 简介\n",
    "\n",
    "datetime模块用于是date和time模块的合集，datetime有两个常量，MAXYEAR和MINYEAR，分别是9999和1。Python的内置起始时间是1970年1月1日0时。\n",
    "\n",
    "**datetime模块定义了5个类：**\n",
    "* datetime.date：表示日期的类\n",
    "* datetime.time：表示时间的类\n",
    "* datetime.datetime：表示日期时间的类\n",
    "* datetime.timedelta：表示时间间隔，即两个时间点的间隔\n",
    "* datetime.tzinfo：时区的相关信息\n",
    "\n",
    "### 3.2 datetime.date类\n",
    "date类由year、month、day三部分组成。\n",
    "\n",
    "**函数** | **含义**\n",
    "------------ | -------------\n",
    "datetime.date(2019,1,30) | 构造日期对象，得到datetime.date(2019, 1, 30)\n",
    "datetime.date.today() | 获取当天日期，得到datetime.date(2019, 1, 30)\n",
    "dt.isocalendar() | ISO标准化格式，返回一个包含三个值的元组(年份, 第几周，星期几)，其中周一至周日为1-7\n",
    "dt.isoweekday(...) | 根据周一到周一返回1-7\n",
    "dt\\.year/dt\\.month/dt\\.day | 返回年月日\n",
    "\n",
    "\n",
    "### 3.3 datetime.time类\n",
    "time类由hour小时、minute分钟、second秒、microsecond毫秒和tzinfo五部分组成。\n",
    "\n",
    "**函数** | **含义**\n",
    "------------ | -------------\n",
    "datetime.time(12, 20, 59, 899) | 构造时间对象，datetime.time(12, 20, 59, 899)\n",
    "dt\\.hour/dt\\.minute/dt\\.second/dt\\.microsecond/dt\\.tzinfo | 返回对应的五部分\n",
    "\n",
    "\n",
    "### 3.4 datetime.datetime类\n",
    "datetime类其实是可以看做是date类和time类的合体，其大部分的方法和属性都继承于这二个类。  \n",
    "datetime类有很多参数，datetime(year, month, day\\[, hour\\[, minute\\[, second\\[, microsecond\\[,tzinfo\\]\\]\\]\\]\\])，返回年月日，时分秒。\n",
    "\n",
    "**函数** | **含义**\n",
    "------------ | -------------\n",
    "datetime.datetime(2019,1,12,12,30,40) | 构造日期时间对象\n",
    "dt.date()和dt.time() | 返回日期或时间部分\n",
    "datetime.datetime.fromtimestamp(1200000000) | 表示1970年1月1日0时后1200000000秒的时刻\n",
    "datetime.datetime.now()等同datetime.datetime.today() | 获取当前时间，如2019-01-30 07\\:42\\:13\\. 967525\n",
    "datetime.datetime.strptime('2019-1-30 15:25','%Y-%m-%d %H:%M') | 将字符串解析为datetime对象（p代表parse）\n",
    "datetime.datetime.strftime(datetime.datetime(2019,1,30), '%Y-%m-%d') | 将datetime对象格式化输出（f代表format）\n",
    "\n",
    "\n",
    "### 3.5 datetime.timedelta类\n",
    "timedelta类是用来计算两个datetime对象的差值。  \n",
    "datetime.timedelta(days=0, seconds=0, microseconds=0, milliseconds=0, minutes=0, hours=0, weeks=0)\n",
    "\n",
    "**此类中包含如下属性：**\n",
    "\n",
    "* days:天数,整数\n",
    "* seconds：秒数(>=0 并且 <1天），不足一天的部分以秒计\n",
    "* microseconds：微秒数(>=0 并且 <1秒） ，不足一秒的部分以毫秒计\n",
    "\n",
    "### 3.6 日期时间格式化符号\n",
    "\n",
    "**符号** | **说明**\n",
    "------------ | -------------\n",
    "%y | 两位数的年份表示（00-99）\n",
    "%Y | 四位数的年份表示（000-9999）\n",
    "%m | 月份（01-12）\n",
    "%d | 月内中的一天（0-31）\n",
    "%H | 24小时制小时数（0-23）\n",
    "%I | 12小时制小时数（01-12）\n",
    "%M | 分钟数（00-59）\n",
    "%S | 秒（00-59）\n",
    "%a | 简化的星期名称（Mon、Tue、Wed...）\n",
    "%A | 完整的星期名称（Monday、Tuesday、Wednesday...）\n",
    "%b | 简化的月份名称（Jan、Feb、Mar...）\n",
    "%B | 完整的月份名称（January、February、March...）\n",
    "%c | 本地相应的日期表示和时间表示（'Wed Jan 30 08\\:26\\:16 2019'）\n",
    "%j | 年内的一天（001-366）\n",
    "%p | AM或PM的等价符\n",
    "%U | 一年中的星期数（00-53）星期天为星期的开始\n",
    "%w | 星期（0-6），星期天为星期的开始\n",
    "%W | 一年中的星期数（00-53）星期一为星期的开始\n",
    "%x | 相应的日期表示（'01/30/19'）\n",
    "%X | 两位数的年份表示（'08\\:28\\:31'）\n",
    "%Z | 当前时区的名称\n",
    "%% | %号本身"
   ]
  },
  {
   "cell_type": "markdown",
   "metadata": {},
   "source": [
    "## 4. 正则表达式re\n",
    "\n",
    "### 4.1 概念\n",
    "\n",
    "正则表达式，简称regex，是文本模式的描述方法。它的设计思想是用一种描述性的语言来给字符串定义一个规则，凡是符合规则的字符串，我们就认为它“匹配”了，否则，该字符串就是不合法的。\n",
    "\n",
    "### 4.2 创建与匹配Regex对象\n",
    "\n",
    "* **创建：** Python中所有正则表达式的函数都在re模块，向re.coompile()传入一个正则表达式，它将返回一个Regex对象。\n",
    "* **search匹配：** Regex对象的search()方法查找传入的字符串，寻找该正则表达式的所有匹配。未找到则返回None，找到则返回Match对象，它有一个group()方法。\n",
    "* **findall匹配：** Regex对象的search()将返回一个Match对象，包含被查找字符串中的“第一次”匹配的文本，而 findall()方法将返回一组字符串列表(不是Match对象)，包含被查找字符串中的所有匹配。\n",
    "\n",
    "**注意：** 正则表达式经常使用倒斜杠(\\\\)，但同时它也是Python中的转义字符，所以通过在字符串第一个引号前加r，可以将该字符串标记为原始字符串，从而简写。"
   ]
  },
  {
   "cell_type": "code",
   "execution_count": 2,
   "metadata": {},
   "outputs": [
    {
     "name": "stdout",
     "output_type": "stream",
     "text": [
      "Found: 415-555-4242\n"
     ]
    }
   ],
   "source": [
    "import re\n",
    "\n",
    "phoneNumRegex = re.compile(r'\\d\\d\\d-\\d\\d\\d-\\d\\d\\d\\d')  # \\d表示一个数字字符\n",
    "mo = phoneNumRegex.search('My number is 415-555-4242.')\n",
    "print('Found:', mo.group())"
   ]
  },
  {
   "cell_type": "markdown",
   "metadata": {},
   "source": [
    "### 4.3 正则表示式的更多模式\n",
    "\n",
    "#### 4.3.1 利用括号分组\n",
    "添加括号将在正则表达式中创建“分组”。第一对括号是第 1 组，第二对括号是第 2 组。向 group()匹配对象方法传入整数 1 或 2，就可以取得匹配文本的不同部分。向 group()方法传入 0 或不传入参数，将返回整个匹配的文本。"
   ]
  },
  {
   "cell_type": "code",
   "execution_count": 3,
   "metadata": {},
   "outputs": [
    {
     "name": "stdout",
     "output_type": "stream",
     "text": [
      "415-555-4242\n",
      "415\n",
      "555-4242\n",
      "('415', '555-4242')\n",
      "findall: ['415-555-9999', '212-555-0000']\n"
     ]
    }
   ],
   "source": [
    "phoneNumRegex = re.compile(r'(\\d\\d\\d)-(\\d\\d\\d-\\d\\d\\d\\d)')\n",
    "mo = phoneNumRegex.search('My number is 415-555-4242.')\n",
    "print(mo.group())\n",
    "print(mo.group(1))\n",
    "print(mo.group(2))\n",
    "print(mo.groups())  # 如果想要一次就获取所有的分组，可使用 groups()方法\n",
    "\n",
    "phoneNumRegex = re.compile(r'\\d\\d\\d-\\d\\d\\d-\\d\\d\\d\\d')\n",
    "print('findall:', phoneNumRegex.findall('Cell: 415-555-9999 Work: 212-555-0000'))"
   ]
  },
  {
   "cell_type": "markdown",
   "metadata": {},
   "source": [
    "#### 4.3.2 用管道匹配多个分组\n",
    "字符&#160;|&#160;称为“管道”。希望匹配许多表达式中的一个时，就可以使用它。\n",
    "\n",
    "**注意：** 如果模式1和模式2都出现在被查找的字符串中，第一次出现的匹配文本，将作为 Match 对象返回。利用findall()可找到所有匹配。"
   ]
  },
  {
   "cell_type": "code",
   "execution_count": 4,
   "metadata": {},
   "outputs": [
    {
     "name": "stdout",
     "output_type": "stream",
     "text": [
      "Batmobile\n",
      "mobile\n"
     ]
    }
   ],
   "source": [
    "batRegex = re.compile(r'Bat(man|mobile|copter|bat)')\n",
    "mo = batRegex.search('Batmobile lost a wheel')\n",
    "print(mo.group())\n",
    "print(mo.group(1))"
   ]
  },
  {
   "cell_type": "markdown",
   "metadata": {},
   "source": [
    "### 4.4 用 sub()方法替换字符串\n",
    "Regex对象的 sub()方法需要传入两个参数。第一个参数是一个字符串，用于取代发现的匹配。第二个参数是完整字符串。"
   ]
  },
  {
   "cell_type": "code",
   "execution_count": 5,
   "metadata": {},
   "outputs": [
    {
     "data": {
      "text/plain": [
       "'SOMEONE gave the secret documents to SOMEONE.'"
      ]
     },
     "execution_count": 5,
     "metadata": {},
     "output_type": "execute_result"
    }
   ],
   "source": [
    "namesRegex = re.compile(r'Agent \\w+')\n",
    "namesRegex.sub('SOMEONE', 'Agent Alice gave the secret documents to Agent Bob.')"
   ]
  },
  {
   "cell_type": "markdown",
   "metadata": {},
   "source": [
    "### 4.5 贪心和非贪心匹配\n",
    "\n",
    "Python 的正则表达式默认是“贪心”的，这表示在有二义的情况下，它们会尽可能匹配最长的字符串。花括号的“非贪心”版本匹配尽可能最短的字符串，即在结束的花括号后跟着一个问号。"
   ]
  },
  {
   "cell_type": "code",
   "execution_count": 6,
   "metadata": {},
   "outputs": [
    {
     "name": "stdout",
     "output_type": "stream",
     "text": [
      "默认贪心： HaHaHaHaHa\n",
      "非贪心： HaHaHa\n"
     ]
    }
   ],
   "source": [
    "greedyHaRegex = re.compile(r'(Ha){3,5}')\n",
    "mo1 = greedyHaRegex.search('HaHaHaHaHa')\n",
    "print('默认贪心：', mo1.group())\n",
    "\n",
    "nongreedyHaRegex = re.compile(r'(Ha){3,5}?')  # 花括号后加了?\n",
    "mo2 = nongreedyHaRegex.search('HaHaHaHaHa')\n",
    "print('非贪心：', mo2.group())"
   ]
  },
  {
   "cell_type": "markdown",
   "metadata": {},
   "source": [
    "### 4.6 常用正则表达式符号、re.compile()的参数\n",
    "\n",
    "**表示法** | **含义**\n",
    "------------ | -------------\n",
    "？ | 匹配零次或一次前面的分组\n",
    "\\* | 匹配零次或多次前面的分组\n",
    "\\+ | 匹配一次或多次前面的分组\n",
    "{n} | 匹配 n 次前面的分组\n",
    "{n,} | 匹配 n 次或更多前面的分组\n",
    "{,m} | 匹配零次到 m 次前面的分组\n",
    "{n,m} | 匹配至少 n 次、至多 m 次前面的分组\n",
    "{n,m}? 或 \\*? 或 \\+? | 对前面的分组进行非贪心匹配\n",
    "^spam | 意味着字符串必须以 spam 开始\n",
    "spam$ | 意味着字符串必须以 spam 结束\n",
    ". | 匹配所有字符，换行符除外。传入re.DOTALL，可以匹配所有字符，包括换行符\n",
    "\\\\d | 0 到 9 的任何数字\n",
    "\\\\D | 除 0 到 9 的数字以外的任何字符\n",
    "\\\\w | 任何字母、数字或下划线字符（可以认为是匹配“单词”字符）\n",
    "\\\\W | 除字母、数字和下划线以外的任何字符\n",
    "\\\\s | 空格、制表符或换行符（可以认为是匹配“空白”字符）\n",
    "\\\\S | 除空格、制表符和换行符以外的任何字符\n",
    "\\[abc\\] | 匹配方括号内的任意字符（诸如 a、b 或 c）\n",
    "\\[^abc\\] | 匹配不在方括号内的任意字符\n",
    "\n",
    "**参数** | **含义**\n",
    "------------ | -------------\n",
    "re.IGNORECASE | 忽略大小写\n",
    "re.DOTALL | 让.可以匹配所有字符，包括换行符\n",
    "re.VERBOSE | 编写注释"
   ]
  },
  {
   "cell_type": "markdown",
   "metadata": {},
   "source": [
    "## 5. HTTP请求\n",
    "### 5.1 HTTP简介\n",
    "HTTP协议是Hyper Text Transfer Protocol（超文本传输协议）的缩写,是用于从万维网（WWW\\:World Wide Web ）服务器传输超文本到本地浏览器的传送协议。  \n",
    "HTTP是一个基于TCP/IP通信协议来传递数据（HTML 文件, 图片文件, 查询结果等）。\n",
    "\n",
    "* 客户端发送一个HTTP请求到服务器的请求消息包括以下格式：请求行（request line）、请求头部（header）、空行和请求数据四个部分组成。\n",
    "* HTTP响应也由四个部分组成，分别是：状态行、消息报头、空行和响应正文。\n",
    "\n",
    "### 5.2 HTTP请求方法\n",
    "\n",
    "\n",
    "**方法** | **描述**\n",
    "------------ | -------------\n",
    "GET | 请求指定的页面信息，并返回实体主体\n",
    "HEAD | 类似于get请求，只不过返回的响应中没有具体的内容，用于获取报头\n",
    "POST | 向指定资源提交数据进行处理请求（例如提交表单或者上传文件）。数据被包含在请求体中。POST请求可能会导致新的资源的建立和/或已有资源的修改\n",
    "PUT | 从客户端向服务器传送的数据取代指定的文档的内容\n",
    "DELETE | 请求服务器删除指定的页面\n",
    "CONNECT | HTTP/1.1协议中预留给能够将连接改为管道方式的代理服务器\n",
    "OPTIONS | 允许客户端查看服务器的性能\n",
    "TRACE | 回显服务器收到的请求，主要用于测试或诊断\n",
    "\n",
    "\n",
    "### 5.3 HTTP状态码\n",
    "当浏览者访问一个网页时，浏览者的浏览器会向网页所在服务器发出请求。当浏览器接收并显示网页前，此网页所在的服务器会返回一个包含HTTP状态码的信息头（server header）用以响应浏览器的请求。\n",
    "\n",
    "**状态码** | **描述**\n",
    "------------ | -------------\n",
    "200 | 请求成功\n",
    "301 | 资源（网页等）被永久转移到其它URL\n",
    "404 | 请求的资源（网页等）不存在\n",
    "500 | 内部服务器错误"
   ]
  },
  {
   "cell_type": "markdown",
   "metadata": {},
   "source": [
    "## 6. 容器\n",
    "\n",
    "### 6.1 概念\n",
    "\n",
    "容器是用来盛放各种元素的，大部分容器都可以遍历。\n",
    "\n",
    "* 最常用的容器包括【列表】、【元组】、【字典】、【集合】\n",
    "* 字符串是有序字符集，本质上也是容器\n",
    "* 在对比和讨论容器的特性时，最常考虑的因素有：①是否有序；②是否可重复；③如何访问其中的元素；④是否可以编辑；⑤如何遍历\n",
    "\n",
    "\n",
    "### 6.2 容器对比\n",
    "\n",
    "* **注意：** ①字符串和元组是不可变对象，而列表、字典、集合是可变对象；②列表、字符串、元组是有序的，可通过索引来访问，而字典、集合是无序的；③列表、字符串、元组的元素可重复，字典的key和集合不可重复；④这几种数据结构可以自由组合，从而形成更大更复杂的结构，唯一的限制来源于这些内置的数据类型本身，比如字典的键必须是不可变对象，因此列表、字典、集合都不能作为字典的键，而元组可以作为字典的键\n",
    "* **tuple与list对比：** ①对数据写\"保护\"（不可变）；②比列表操作速度快；③可作为字典的key\n",
    "* **dict与list对比：** ①查找和插入的速度极快，不会随着key增加而增加（list则会）；②需要占用大量的内存空间（list则少）。因此dict是用空间来换取时间的一种方法\n",
    "* **set和dict对比：** ①set是一组key（不可变对象、且不重复）的集合，但不存储value\n",
    "\n",
    "### 6.3 容器扩展\n",
    "\n",
    "如frozenset、namedtuple、OrderedDict、defaultdict、deque、Counter等。"
   ]
  },
  {
   "cell_type": "markdown",
   "metadata": {},
   "source": [
    "## 7. 可迭代对象（Iterable）\n",
    "\n",
    "### 7.1 概念\n",
    "\n",
    "像list、tuple可以通过for循环来遍历，这种遍历称为迭代(Iteration)，这些可以直接作用于for循环对象统称为可迭代对象(Iterable)。但可迭代对象不一定非得是基本数据结构，可以为任意对象，只要这个对象能返回一个迭代器(iterator)。\n",
    "\n",
    "**注意：** 可迭代的类中，一般有\\_\\_iter\\_\\_()以及\\_\\_next()\\_\\_方法，可迭代对象通过调用\\_\\_iter\\_\\_()方法返回一个迭代器。\n",
    "\n",
    "### 7.2 可迭代对象种类\n",
    "\n",
    "* 一类是集合数据类型，如list、tuple、dict、set、str等\n",
    "* 一类是generator，包括生成器和带yield的是generator function\n",
    "\n",
    "### 7.3 判断方法\n",
    "\n",
    "通过isinstance(obj, Iterable)可判断obj是否为可迭代对象。"
   ]
  },
  {
   "cell_type": "code",
   "execution_count": 1,
   "metadata": {},
   "outputs": [
    {
     "name": "stdout",
     "output_type": "stream",
     "text": [
      "判断是否为可迭代对象： True\n",
      "a\n",
      "b\n",
      "c\n"
     ]
    }
   ],
   "source": [
    "from collections import Iterable\n",
    "print('判断是否为可迭代对象：', isinstance('abc', Iterable))\n",
    "\n",
    "x = 'abc'  # x为可迭代对象\n",
    "y = iter(x)  # y为迭代器\n",
    "for ele in y:\n",
    "    print(ele)"
   ]
  },
  {
   "cell_type": "markdown",
   "metadata": {},
   "source": [
    "## 8. 迭代器（Iterator）\n",
    "\n",
    "### 8.1 概念\n",
    "\n",
    "迭代器(Iterator)表示的是一个数据流，Iterator对象可以被next()函数调用并不断返回下一个数据，直到没有数据时抛出StopIteration错误。可以把这个数据流看做是一个有序序列，但却不能提前知道序列的长度，只能不断通过next()函数实现按需计算下一个数据，**所以Iterator的计算是惰性的，只有在需要返回下一个数据时它才会计算**。\n",
    "\n",
    "\n",
    "### 8.2 可迭代对象与迭代器总结\n",
    "* 凡是可作用于for循环的对象都是Iterable类型\n",
    "* 凡是可作用于next()函数的对象都是Iterator类型，它们表示一个惰性计算的序列\n",
    "* 集合数据类型如list、dict、str等是Iterable但不是Iterator，不过可以通过iter()函数获得一个Iterator对象（例如Iterator甚至可以表示一个无限大的数据流，例如全体自然数。而使用list是永远不可能存储全体自然数的）\n",
    "* Python的for循环本质上就是通过不断调用next()函数实现的"
   ]
  },
  {
   "cell_type": "code",
   "execution_count": 2,
   "metadata": {},
   "outputs": [
    {
     "name": "stdout",
     "output_type": "stream",
     "text": [
      "a\n",
      "b\n",
      "c\n",
      "There is no element left. StopIteration!\n"
     ]
    },
    {
     "ename": "StopIteration",
     "evalue": "",
     "output_type": "error",
     "traceback": [
      "\u001b[1;31m---------------------------------------------------------------------------\u001b[0m",
      "\u001b[1;31mStopIteration\u001b[0m                             Traceback (most recent call last)",
      "\u001b[1;32m<ipython-input-2-846e9c6f16ca>\u001b[0m in \u001b[0;36m<module>\u001b[1;34m\u001b[0m\n\u001b[0;32m      5\u001b[0m \u001b[1;32mwhile\u001b[0m \u001b[1;32mTrue\u001b[0m\u001b[1;33m:\u001b[0m\u001b[1;33m\u001b[0m\u001b[1;33m\u001b[0m\u001b[0m\n\u001b[0;32m      6\u001b[0m     \u001b[1;32mtry\u001b[0m\u001b[1;33m:\u001b[0m\u001b[1;33m\u001b[0m\u001b[1;33m\u001b[0m\u001b[0m\n\u001b[1;32m----> 7\u001b[1;33m         \u001b[0mprint\u001b[0m\u001b[1;33m(\u001b[0m\u001b[0mnext\u001b[0m\u001b[1;33m(\u001b[0m\u001b[0my\u001b[0m\u001b[1;33m)\u001b[0m\u001b[1;33m)\u001b[0m\u001b[1;33m\u001b[0m\u001b[1;33m\u001b[0m\u001b[0m\n\u001b[0m\u001b[0;32m      8\u001b[0m     \u001b[1;32mexcept\u001b[0m\u001b[1;33m:\u001b[0m\u001b[1;33m\u001b[0m\u001b[1;33m\u001b[0m\u001b[0m\n\u001b[0;32m      9\u001b[0m         \u001b[0mprint\u001b[0m\u001b[1;33m(\u001b[0m\u001b[1;34m'There is no element left. StopIteration!'\u001b[0m\u001b[1;33m)\u001b[0m\u001b[1;33m\u001b[0m\u001b[1;33m\u001b[0m\u001b[0m\n",
      "\u001b[1;31mStopIteration\u001b[0m: "
     ]
    }
   ],
   "source": [
    "x = 'abc'  # x为可迭代对象\n",
    "y = iter(x)  # y为迭代器\n",
    "\n",
    "# for循环本质上就是通过不断调用next()函数实现的，例如\n",
    "while True:\n",
    "    try:\n",
    "        print(next(y))\n",
    "    except:\n",
    "        print('There is no element left. StopIteration!')\n",
    "        raise"
   ]
  },
  {
   "cell_type": "markdown",
   "metadata": {},
   "source": [
    "## 9. 生成器（Generator）\n",
    "\n",
    "### 9.1 概念\n",
    "\n",
    "如果列表元素可以按照某种算法推算出来，就不必创建完整的list，从而节省大量的空间。这种一边循环一边计算的机制，称为生成器(generator)，生成器是一种特殊的迭代器。\n",
    "\n",
    "**注意：**\n",
    "* 任意生成器都是迭代器（反过来不成立）\n",
    "* 任意生成器，都是一个可以延迟创建值的工厂\n",
    "\n",
    "### 9.2 创建生成器\n",
    "\n",
    "要创建一个generator，有很多种方法。例如：\n",
    "\n",
    "* 把一个列表生成式的\\[\\]改成()，就创建了一个generator。创建L和G的区别仅在于最外层的\\[\\]和()，L是一个list，而G是一个generator\n",
    "* 一个函数定义中包含yield关键字，那么这个函数就不再是一个普通函数，而是一个generator\n",
    "\n",
    "### 9.3 调用生成器\n",
    "\n",
    "* generator保存的是算法，每次调用next(G)，就计算出G的下一个元素的值，直到计算到最后一个元素，没有更多的元素时，抛出StopIteration的错误\n",
    "* 通过for循环来迭代G，并且不需要关心StopIteration的错误"
   ]
  },
  {
   "cell_type": "code",
   "execution_count": 4,
   "metadata": {},
   "outputs": [
    {
     "name": "stdout",
     "output_type": "stream",
     "text": [
      "<class 'generator'>\n",
      "0   1   4   9   16   25   36   49   64   81   "
     ]
    }
   ],
   "source": [
    "L = [x * x for x in range(10)]  # 创建列表\n",
    "G = (x * x for x in range(10))  # 创建生成器\n",
    "print(type(G))\n",
    "for g in G:\n",
    "    print(g, '  ', end='')"
   ]
  },
  {
   "cell_type": "code",
   "execution_count": 5,
   "metadata": {},
   "outputs": [
    {
     "name": "stdout",
     "output_type": "stream",
     "text": [
      "1\n",
      "1\n",
      "2\n",
      "3\n",
      "5\n"
     ]
    }
   ],
   "source": [
    "# 函数形式的生成器\n",
    "def fib(max):\n",
    "    n, a, b = 0, 0, 1\n",
    "    while n < max:\n",
    "        yield b\n",
    "        a, b = b, a + b\n",
    "        n = n + 1\n",
    "    return 'done'\n",
    "\n",
    "for n in fib(5):\n",
    "    print(n)"
   ]
  }
 ],
 "metadata": {
  "kernelspec": {
   "display_name": "Python 3",
   "language": "python",
   "name": "python3"
  },
  "language_info": {
   "codemirror_mode": {
    "name": "ipython",
    "version": 3
   },
   "file_extension": ".py",
   "mimetype": "text/x-python",
   "name": "python",
   "nbconvert_exporter": "python",
   "pygments_lexer": "ipython3",
   "version": "3.7.1"
  }
 },
 "nbformat": 4,
 "nbformat_minor": 2
}
