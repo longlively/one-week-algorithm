{
 "cells": [
  {
   "cell_type": "markdown",
   "metadata": {},
   "source": [
    "# 任务二\n",
    "\n",
    "## 1. 列表\n",
    "\n",
    "### 1.1 列表概念\n",
    "\n",
    "列表（数据项不需要具有相同的类型）是最常用的Python数据类型，它可以作为一个方括号内的逗号分隔值出现，与字符串的索引一样，列表索引从0开始。\n",
    "\n",
    "### 1.2 基本操作\n",
    "\n",
    "* **创建列表：** 只要把逗号分隔的不同的数据项使用方括号括起来即可\n",
    "\n",
    "* **访问列表中的值：** 列表与元组、字符串类似，下标索引从0开始，可以进行截取，组合等\n",
    "\n",
    "* **更新列表：** 可以对列表的数据项进行修改或更新，也可以使用append()方法来添加列表项\n",
    "\n",
    "* **删除列表元素：** remove是删除首个符合条件的元素,而不是删除特定的索引；del是根据索引(元素所在位置)来删除的(可以一次删多个，传入单个数值或切片)；pop也是根据索引删除(每次只能删1个)，但它还会返回被删除的元素\n",
    "\n",
    "* **拷贝列表：** copy()浅拷贝只能拷贝最外层，修改内层则原列表和新列表都会变化；copy.deepcopy()深拷贝是指将原列表完全克隆一份新的\n",
    "\n",
    "* **检查成员：** in、not in，检查元素是否存在于列表中\n",
    "\n",
    "* **脚本操作符：** 列表对 + 和 \\* 的操作符与字符串相似。+ 号用于组合列表，\\* 号用于重复列表"
   ]
  },
  {
   "cell_type": "code",
   "execution_count": 5,
   "metadata": {},
   "outputs": [
    {
     "name": "stdout",
     "output_type": "stream",
     "text": [
      "('3', 4)\n",
      "python\n"
     ]
    }
   ],
   "source": [
    "list1 = [1, 'python', ('3', 4)]  # 创建列表\n",
    "print(list1[2])  # 访问列表中的值\n",
    "list1[2] = 'new'  # 更新列表,修改元素\n",
    "list1.append('something')  # 更新列表，添加元素\n",
    "del list1[2:]  # 删除索引2以后的元素\n",
    "print(list1.pop(1))  # 删除索引为1的元素，并返回被删除的值"
   ]
  },
  {
   "cell_type": "code",
   "execution_count": 6,
   "metadata": {},
   "outputs": [
    {
     "name": "stdout",
     "output_type": "stream",
     "text": [
      "s0: [[1, 'hello'], 3, 4],   s2: [[1, 'hello'], 'oliver', 4]\n",
      "s1: [[1, 2], 3, 4],   s3: [[1, 'hello'], 'oliver', 4]\n"
     ]
    }
   ],
   "source": [
    "import copy\n",
    "\n",
    "s0 = [[1, 2], 3, 4]\n",
    "s1 = [[1, 2], 3, 4]\n",
    "s2 = s0.copy()  # 浅拷贝\n",
    "s3 = copy.deepcopy(s1)  # 深拷贝\n",
    "s2[1] = 'oliver'\n",
    "s2[0][1] = 'hello'\n",
    "s3[1] = 'oliver'\n",
    "s3[0][1] = 'hello'\n",
    "print('s0: {},   s2: {}'.format(s0, s2))\n",
    "print('s1: {},   s3: {}'.format(s1, s3))"
   ]
  },
  {
   "cell_type": "markdown",
   "metadata": {},
   "source": [
    "### 1.3 列表相关函数和方法\n",
    "\n",
    "**函数** | **描述**\n",
    "------- | -------\n",
    "len(list) | 返回列表元素个数\n",
    "max(list) &#124; min(list)| 返回列表元素最大值/最小值\n",
    "list(tuple) | 将元组转换为列表\n",
    "\n",
    "**方法** | **描述**\n",
    "------- | -------\n",
    "list.append(obj) | 在列表末尾添加新的对象(每次增加一个)\n",
    "list.extend(seq) | 在列表末尾一次性追加另一个序列中的多个值（每次增加一个或多个）\n",
    "list.count(obj) | 统计某个元素在列表中出现的次数\n",
    "list.index(obj) | 从列表中找出某个值第一个匹配项的索引位置\n",
    "list.insert(index, obj) | 将obj插入列表索引为index的位置\n",
    "list.pop(\\[index=-1\\]) | 移除列表中的一个元素（默认最后一个元素），并且返回该元素的值\n",
    "list.remove(obj) | 移除列表中某个值的第一个匹配项\n",
    "list.reverse() | 反转整个列表，就地修改，不返回值\n",
    "list.sort(key=None, reverse=False) | 对列表进行排序，就地修改，不返回值\n",
    "list.clear() | 清空列表\n",
    "list.copy() | 浅复制列表，只能拷贝最外层，修改内层则原列表和新列表都会变化"
   ]
  },
  {
   "cell_type": "markdown",
   "metadata": {},
   "source": [
    "## 2. 元组\n",
    "\n",
    "### 2.1 元组概念\n",
    "\n",
    "Python 的元组与列表类似，不同之处在于元组的元素不能修改。元组使用小括号，列表使用方括号。\n",
    "\n",
    "### 2.2 基本操作\n",
    "\n",
    "* **创建元组：** 只需要在括号中添加元素，并使用逗号隔开即可(当只有一个元素时，也需要用逗号隔开，否则括号会被当成运算符)\n",
    "\n",
    "* **访问元组中的值：** 元组与列表、字符串类似，下标索引从0开始，可以进行截取，组合等\n",
    "\n",
    "* **修改元组：** 元组的元素不能修改，但可以进行连接组合创建成一个新元组\n",
    "\n",
    "* **删除元组：** 元组中的元素值是不允许删除的，但可以使用del语句来删除整个元组\n",
    "\n",
    "* **检查成员：** in、not in，检查元素是否存在于元组中\n",
    "\n",
    "* **脚本操作符：** 元组对 + 和 \\* 的操作符与字符串相似，+ 用于组合，\\* 用于复制，都会生成一个新的元组"
   ]
  },
  {
   "cell_type": "code",
   "execution_count": 7,
   "metadata": {},
   "outputs": [
    {
     "name": "stdout",
     "output_type": "stream",
     "text": [
      "(1, 2)\n",
      "(1, 2, '3', 4)\n",
      "True\n",
      "(1, 2, '3', 1, 2, '3')\n"
     ]
    }
   ],
   "source": [
    "tup = (1, 2, '3')\n",
    "tup2 = (4, )  # 当只有一个元素时，也需要用逗号隔开，否则括号会被当成运算符\n",
    "print(tup[0:2])  # 访问元组\n",
    "print(tup + tup2)  # 元组的元素不能修改，但可以进行连接组合创建成一个新元组\n",
    "del tup2  # 不能修改元素，但可以删除整个元组\n",
    "print(1 in tup)  # 检查成员\n",
    "print(tup * 2)  # 复制元组，生成新的元组"
   ]
  },
  {
   "cell_type": "markdown",
   "metadata": {},
   "source": [
    "### 2.3 元组相关函数和方法\n",
    "\n",
    "**函数** | **描述**\n",
    "------- | -------\n",
    "len(tuple) | 返回元组元素个数\n",
    "max(tuple) &#124; min(tuple)| 返回元组元素最大值/最小值\n",
    "tuple(list) | 将列表转换为元组\n",
    "\n",
    "**方法** | **描述**\n",
    "------- | -------\n",
    "tuple.count(obj) | 统计某个元素在元组中出现的次数\n",
    "tuple.index(obj) | 从元组中找出某个值第一个匹配项的索引位置"
   ]
  },
  {
   "cell_type": "code",
   "execution_count": 8,
   "metadata": {},
   "outputs": [
    {
     "name": "stdout",
     "output_type": "stream",
     "text": [
      "(1, 2, 3, 4)\n",
      "[4, 3, 2, 1]\n"
     ]
    }
   ],
   "source": [
    "# 列表与元组的相互转化\n",
    "list1 = [1, 2, 3, 4]\n",
    "tuple1 = (4, 3, 2, 1)\n",
    "print(tuple(list1))\n",
    "print(list(tuple1))"
   ]
  },
  {
   "cell_type": "markdown",
   "metadata": {},
   "source": [
    "## 3. string字符串\n",
    "### 3.1 定义及基本操作（+，*，读取方式）\n",
    "\n",
    "字符串是 Python 中最常用的数据类型。可以使用引号('或\")来创建字符串。\n",
    "\n",
    "创建字符串，只需为变量分配一个值即可。如 var1 = 'Hello World!'\n",
    "\n",
    "假设变量a = 'Hello', b = 'Python':\n",
    "\n",
    "**操作符** | **描述** | **实例**\n",
    "------- | ------- | -------\n",
    "+ | 字符串连接 | a + b 输出结果 'HelloPython'\n",
    "* | 重复输出字符串 | a * 2 输出结果 'HelloHello'\n",
    "\\[ : \\] | 截取字符串中的一部分 | a\\[:4\\] 输出结果 'Hell'\n",
    "in &#124; not in | 成员运算符 | 'P' in 'Python' 输出结果True\n",
    "r(或大写R) | 原始字符串，所有的字符串都是直接按照字面的意思来使用，没有转义 | 例如读取路径r'C:\\Users\\admin\\Desktop\\test.xlsx'\n",
    "% | 格式字符串 | 详见5.3节"
   ]
  },
  {
   "cell_type": "markdown",
   "metadata": {},
   "source": [
    "### 5.2 字符串相关方法\n",
    "\n",
    "假设变量a = 'Hello'\n",
    "\n",
    "**方法** | **描述**\n",
    "------- | -------\n",
    "a.capitalize() | 把字符串的第一个字符大写\n",
    "a.title() | 把字符串中每个单词的首字母大写\n",
    "a.center(width) | 返回一个原字符串居中,并使用空格填充至长度 width 的新字符串\n",
    "a.count(str) | 返回 str 在 a 里面出现的次数\n",
    "a.startswith(str) &#124; a.endswith(str) | 检查字符串是否以 str 开始/结束，返回True或False\n",
    "a.expandtabs(tabsize=8) | 把字符串 a 中的 tab 符号转为空格，tab 符号默认的空格数是 8\n",
    "a.find(str) &#124; a.rfind(str) | (从左从右)检测 str 是否包含在 a 中，如果是返回第一个 str 的索引值，否则返回-1\n",
    "a.format() | 格式化字符串\n",
    "a.index(str) | 跟find()方法一样，只不过如果str不在 a 中会报一个异常\n",
    "a.isalnum() | 如果 a 至少有一个字符并且所有字符都是字母或数字则返回 True,否则返回 False\n",
    "a.isalpha() | 如果 a 至少有一个字符并且所有字符都是字母则返回 True,否则返回 False\n",
    "a.isdecimal() | 如果 a 只包含十进制数字则返回 True 否则返回 False\n",
    "a.isdigit() | 如果 a 只包含数字则返回 True 否则返回 False\n",
    "a.islower() | 如果 a 中包含至少一个区分大小写的字符，并且所有这些(区分大小写的)字符都是小写，则返回 True，否则返回 False\n",
    "a.isnumeric() | 如果 a 中只包含数字字符，则返回 True，否则返回 False\n",
    "a.isspace() | 如果 a 中只包含空格，则返回 True，否则返回 False\n",
    "a.istitle() | 如果 a 是标题化的(见 title())则返回 True，否则返回 False\n",
    "a.isupper() &#124; a.islower() | 如果 a 中包含至少一个区分大小写的字符，并且所有这些(区分大小写的)字符都是大/小写，则返回 True，否则返回 False\n",
    "a.join(seq) | 以 a 作为分隔符，将 seq 中所有的元素(的字符串表示)合并为一个新的字符串\n",
    "a.ljust(width) &#124; a.rjust(width) | 返回一个原字符串左/右对齐,并使用空格填充至长度 width 的新字符串\n",
    "a.zfill(width) | 返回长度为 a 的字符串，原字符串 string 右对齐，前面填充0\n",
    "a.upper() &#124;a.lower() | 转换 a 中所有字符转为大/小写\n",
    "a.swapcase() | 翻转 a 中的大小写\n",
    "a.strip() &#124; a.lstrip() &#124; a.rstrip() | 截掉 a 左右、左边/右边的空格\n",
    "max(a) &#124; min(a) | 返回字符串 a 中最大/最小的字母\n",
    "a.partition(str) &#124; a.rpartition(str) | 有点像 find()和 split()的结合体,从 str 出现的第一个位置起,把 字 符 串 string 分 成 一 个 3 元 素 的 元 组 (string_pre_str,str,string_post_str),如果 string 中不包含str 则 string_pre_str == string\n",
    "a.replace(str1, str2, count=-1) | 把 string 中的 str1 替换成 str2,如果 count 指定，则替换不超过 count 次\n",
    "a.split(str=',', maxsplit=-1) | 以 str 为分隔符切片 a，如果 maxsplit 有指定值，则仅分隔 maxsplit + 1 个子字符串\n",
    "a.splitlines(\\[keepends\\]) | 按照行('\\r', '\\r\\n', \\n')分隔，返回一个包含各行作为元素的列表，如果参数 keepends 为 False，不包含换行符，如果为 True，则保留换行符\n",
    "a.translate(str, table=\"\") | 根据 str 给出的表(包含 256 个字符)转换 string 的字符,要过滤掉的字符放到 del 参数中\n"
   ]
  },
  {
   "cell_type": "markdown",
   "metadata": {},
   "source": [
    "### 5.3 字符串格式化问题\n",
    "\n",
    "**python字符串格式化符号:**\n",
    "\n",
    "**符号** | **描述**\n",
    "------- | -------\n",
    "%c | 格式化字符及其ASCII码\n",
    "%s | 格式化字符串\n",
    "%d | 格式化整数\n",
    "%u | 格式化无符号整型\n",
    "%o | 格式化无符号八进制数\n",
    "%x | 格式化无符号十六进制数\n",
    "%X | 格式化无符号十六进制数（大写）\n",
    "%f | 格式化浮点数字，可指定小数点后的精度\n",
    "%e | 用科学计数法格式化浮点数\n",
    "%E | 作用同%e，用科学计数法格式化浮点数\n",
    "%g | %f和%e的简写\n",
    "%G | %f 和 %E 的简写\n",
    "%p | 用十六进制数格式化变量的地址\n",
    "\n",
    "\n",
    "**格式化操作符辅助指令:**\n",
    "\n",
    "**符号** | **功能**\n",
    "------- | -------\n",
    "* | 定义宽度或者小数点精度\n",
    "- | 用做左对齐\n",
    "+ | 在正数前面显示加号( + )\n",
    "<sp\\> | 在正数前面显示空格\n",
    "\\# | 在八进制数前面显示零('0')，在十六进制前面显示'0x'或者'0X'(取决于用的是'x'还是'X')\n",
    "0 | 显示的数字前面填充'0'而不是默认的空格\n",
    "% | '%%'输出一个单一的'%'\n",
    "(var) | 映射变量(字典参数)\n",
    "m.n.\t | m 是显示的最小总宽度,n 是小数点后的位数(如果可用的话)"
   ]
  }
 ],
 "metadata": {
  "kernelspec": {
   "display_name": "Python 3",
   "language": "python",
   "name": "python3"
  },
  "language_info": {
   "codemirror_mode": {
    "name": "ipython",
    "version": 3
   },
   "file_extension": ".py",
   "mimetype": "text/x-python",
   "name": "python",
   "nbconvert_exporter": "python",
   "pygments_lexer": "ipython3",
   "version": "3.6.8"
  }
 },
 "nbformat": 4,
 "nbformat_minor": 2
}
