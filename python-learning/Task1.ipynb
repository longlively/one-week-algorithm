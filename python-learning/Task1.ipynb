{
 "cells": [
  {
   "cell_type": "markdown",
   "metadata": {},
   "source": [
    "# 任务一\n",
    "\n",
    "## 1. 环境搭建\n",
    "\n",
    "这里偏个题，不说anaconda环境配置、解释器，大家应该都会。\n",
    "\n",
    "说一下jupyter notebook的配置方式。写代码的方式很酷~\n",
    "\n",
    "前提：已经安装好anconda2、3+pycharm。\n",
    "\n",
    "### 1.1 使用anaconda配置多个python版本\n",
    "[参考资料](https://www.jianshu.com/p/effd1aa4dc3c)  \n",
    "\n",
    "如果需要在python2和3之间进行转换使用，比如我安装的python2，但有时需要用到python3，可以利用anaconda的conda增加python3的虚拟环境，就不用再另外安装了。\n",
    "在命令窗口中执行以下几步：\n",
    "\n",
    "1. 创建名为 python36 (名字根据版本号或随意自取）的环境，指定版本3.6，conda会自动下载3.6.x的最新版本，安装默认的anaconda库\n",
    "\n",
    "```shell\n",
    "conda create --name python36 python=3.6 anaconda\n",
    "```\n",
    "2. 激活环境\n",
    "\n",
    "```shell\n",
    "activate python36               # windows\n",
    "source activate python36        # mac\n",
    "```\n",
    "### 1.2 启动ipynb文件\n",
    "\n",
    "命令行定位到要打开的文件所在目录，输入jupyter notebook，就会在浏览器中启动该目录。如果想直接打开某文件，就输入jupyter notebook xxx.ipynb。xxx，xxx是文件名，ipynb是此类文件的后缀名。\n",
    "\n",
    "### 1.3 jupyter notebook中配置多个python环境\n",
    "在jupyter notebook中使用anaconda里创建的其他python环境，如python3.6的虚拟环境（已取名为python36），需要以下两步才能在jupyter notebook里使用python3.6。\n",
    "\n",
    "- 为python3.6安装Kernel\n",
    "```shell\n",
    "conda install -n python36 ipykernel\n",
    "```\n",
    "\n",
    "- 激活python3.6的虚拟环境\n",
    "```shell\n",
    "source avtivate python36   # mac\n",
    "activate python36          # windows\n",
    "```\n",
    "\n",
    "- 为kernel安装python3\n",
    "```shell\n",
    "python -m ipykernel install --user\n",
    "```\n",
    "\n",
    "### 1.4 更改jupyter notebook的工作空间\n",
    "在其配置文件ipython_notebook_config.py中,有如下一句:\n",
    "```python\n",
    "# The directory to use for notebooks and kernels.# c.NotebookApp.notebook_dir = u'' \n",
    "```\n",
    "修改为：\n",
    "\n",
    "```python\n",
    "The directory to use for notebooks and kernels.c.NotebookApp.notebook_dir = u'D:/JupyterNotebook' \n",
    "```\n",
    "\n",
    "注意:要记得删掉注释#，路径最后一级后面不要加符号“/”。\n",
    "\n",
    "在cmd中输入jupyter notebook --generate-config可找到该文件位置。\n",
    "\n",
    "### 1.5 为jupyter notebook添加目录功能\n",
    "- 命令行输入：\n",
    "```shell\n",
    "conda install -c conda-forge jupyter_contrib_nbextensions\n",
    "```\n",
    "- 打开Jupyter Notebook,在它的(新增的)Nbextensions标签下勾选“Table of Contents(2)” \n",
    "\n",
    "\n",
    "## 2. Python初体验\n",
    "\n",
    "print and input"
   ]
  },
  {
   "cell_type": "code",
   "execution_count": 20,
   "metadata": {},
   "outputs": [
    {
     "name": "stdout",
     "output_type": "stream",
     "text": [
      "Hello World!\n",
      "300\n",
      "Hello!123\n",
      "123\n"
     ]
    }
   ],
   "source": [
    "print('Hello World!')\n",
    "print(100 + 200)\n",
    "ans = input('Hello!')\n",
    "print(ans)"
   ]
  },
  {
   "cell_type": "markdown",
   "metadata": {},
   "source": [
    "## 3、Python基础详解\n",
    "### 3.1 Python变量特性+命名规则\n",
    "\n",
    "1. Python命名规则\n",
    "\n",
    "Python中的变量可以取任何名字，只要它遵守以下4条规则：\n",
    "* 只能是一个词(即不能用空格区分)；\n",
    "* 只能包含字母、数字和下划线；\n",
    "* 不能以数字开头；\n",
    "* 不能将python关键用作变量名。\n",
    "\n",
    "**有效的变量名** | **无效的变量名**\n",
    "------------ | -------------\n",
    "myName | my name(不允许空格)\n",
    "name | my-name(不允许中划线)\n",
    "my_name | 5name(不允许数字开头)\n",
    "\\_name | 2019(不允许数字开头)\n",
    "NAME | my_\\\\$name(不允许$这样的特殊字符)\n",
    "name5 | 'name'(不允许'这样的特殊字符)\n",
    "true | True(不允许使用关键字)\n",
    "\n",
    "2. Python变量特性\n",
    "\n",
    "python使用对象来存储数据，每一种数据类型都有一个内置的类(如数字、字符串、列表、元组、字典、集合、函数、类、模块、文件等)，每新建一个变量，实际就是初始化生成一个对象，即所有数据都是对象。对象的三个特性：\n",
    "* 身份：内存地址，可以用id()获取\n",
    "* 类型：决定了该对象可以保存什么类型的数据，可以执行哪些操作，需要遵循什么规则，可以用type()获取\n",
    "* 值： 对象保存的真实数据\n",
    "\n",
    "**注意：**\n",
    "\n",
    "**变量名区分大小写：** 意味着NAME、name、Name、nAmE是4个不同的变量\n",
    "\n",
    "**推荐的命名形式：** PEP8风格：look_like_this； 驼峰式：lookLikeThis"
   ]
  },
  {
   "cell_type": "markdown",
   "metadata": {},
   "source": [
    "### 3.2 注释方法\n",
    "\n",
    "Python中的注释有单行注释和多行注释：\n",
    "\n",
    "* 单行注释以 # 开头\n",
    "* 多行注释用三个单引号 ''' 或者三个双引号 \"\"\" 将注释括起来"
   ]
  },
  {
   "cell_type": "code",
   "execution_count": 21,
   "metadata": {},
   "outputs": [
    {
     "name": "stdout",
     "output_type": "stream",
     "text": [
      "Whatever\n",
      "Something\n"
     ]
    }
   ],
   "source": [
    "print('Whatever')  # It's a comment\n",
    "\n",
    "'''\n",
    "It's a  comment\n",
    "Nothing happens\n",
    "'''\n",
    "\n",
    "\"\"\"\n",
    "It's a  comment\n",
    "Nothing happens\n",
    "\"\"\"\n",
    "print('Something')"
   ]
  },
  {
   "cell_type": "markdown",
   "metadata": {},
   "source": [
    "### 3.3 python中“：”作用\n",
    "\n",
    "* **冒号:和空格用于区分代码之间的层次**，常见于函数、循环、判断等语句（因为Python没有像其他语言一样采用{}或begin...end分隔代码块）\n",
    "* **用于切片**，常见于数组、列表等"
   ]
  },
  {
   "cell_type": "code",
   "execution_count": 22,
   "metadata": {},
   "outputs": [
    {
     "name": "stdout",
     "output_type": "stream",
     "text": [
      "True\n",
      "[0, 1, 2, 3, 4]\n"
     ]
    }
   ],
   "source": [
    "# 冒号用于区分代码之间的层次\n",
    "if 5 > 3:\n",
    "    print('True')\n",
    "else:\n",
    "    print('False')\n",
    "    \n",
    "# 冒号用于切片\n",
    "rng = list(range(10))\n",
    "print(rng[:5])"
   ]
  },
  {
   "cell_type": "markdown",
   "metadata": {},
   "source": [
    "### 3.4 学会使用dir( )及和help( )\n",
    "\n",
    "* **dir():** 不带参数时，返回当前范围内的变量、方法和定义的类型列表；带参数时，返回参数的属性、方法列表。如果参数包含方法__dir__()，该方法将被调用。如果参数不包含\\_\\_dir\\_\\_()，该方法将最大限度地收集参数信息。\n",
    "\n",
    "* **help():** 用于查看函数或模块用途的详细说明。"
   ]
  },
  {
   "cell_type": "code",
   "execution_count": 23,
   "metadata": {},
   "outputs": [
    {
     "name": "stdout",
     "output_type": "stream",
     "text": [
      "不带参数: ['In', 'Out', '_', '__', '___', '__builtin__', '__builtins__', '__doc__', '__loader__', '__name__', '__package__', '__spec__', '_dh', '_i', '_i1', '_i10', '_i11', '_i12', '_i13', '_i14', '_i15', '_i16', '_i17', '_i18', '_i19', '_i2', '_i20', '_i21', '_i22', '_i23', '_i3', '_i4', '_i5', '_i6', '_i7', '_i8', '_i9', '_ih', '_ii', '_iii', '_oh', 'ans', 'exit', 'get_ipython', 'quit', 'ret', 'rng']\n",
      "\n",
      "带参数: ['__add__', '__class__', '__contains__', '__delattr__', '__delitem__', '__dir__', '__doc__', '__eq__', '__format__', '__ge__', '__getattribute__', '__getitem__', '__gt__', '__hash__', '__iadd__', '__imul__', '__init__', '__init_subclass__', '__iter__', '__le__', '__len__', '__lt__', '__mul__', '__ne__', '__new__', '__reduce__', '__reduce_ex__', '__repr__', '__reversed__', '__rmul__', '__setattr__', '__setitem__', '__sizeof__', '__str__', '__subclasshook__', 'append', 'clear', 'copy', 'count', 'extend', 'index', 'insert', 'pop', 'remove', 'reverse', 'sort']\n",
      "\n",
      "查看sum的帮助文档：\n",
      "Help on built-in function sum in module builtins:\n",
      "\n",
      "sum(iterable, start=0, /)\n",
      "    Return the sum of a 'start' value (default: 0) plus an iterable of numbers\n",
      "    \n",
      "    When the iterable is empty, return the start value.\n",
      "    This function is intended specifically for use with numeric values and may\n",
      "    reject non-numeric types.\n",
      "\n",
      "None\n"
     ]
    }
   ],
   "source": [
    "print('不带参数:', dir())\n",
    "print('')\n",
    "print('带参数:', dir(rng))\n",
    "print('')\n",
    "print('查看sum的帮助文档：')\n",
    "print(help(sum))"
   ]
  },
  {
   "cell_type": "markdown",
   "metadata": {},
   "source": [
    "### 3.5 import使用\n",
    "\n",
    "import module_name的本质是是将module_name.py中的全部代码加载到内存并赋值给与模块同名的变量写在当前文件中,这个变量的类型是'module'。\n",
    "\n",
    "<module 'module_name' from 'E:\\\\PythonImport\\\\module_name.py'>\n",
    "\n",
    "* **导入整个模块：** import module1 \\[as alias1\\], module2 \\[as alias2\\]\n",
    "* **导入模块中指定的类、方法(不加括号)、属性：** from module import module_element1 \\[as alias1\\], module_element2 \\[as alias2\\]\n",
    "* **导入模块中的全部对象(从而不需要在调用的时候指定模型，不推荐)：** from module import *"
   ]
  },
  {
   "cell_type": "code",
   "execution_count": 24,
   "metadata": {},
   "outputs": [
    {
     "ename": "ModuleNotFoundError",
     "evalue": "No module named 'pandas'",
     "output_type": "error",
     "traceback": [
      "\u001b[1;31m---------------------------------------------------------------------------\u001b[0m",
      "\u001b[1;31mModuleNotFoundError\u001b[0m                       Traceback (most recent call last)",
      "\u001b[1;32m<ipython-input-24-fdcd83f3efad>\u001b[0m in \u001b[0;36m<module>\u001b[1;34m\u001b[0m\n\u001b[1;32m----> 1\u001b[1;33m \u001b[1;32mimport\u001b[0m \u001b[0mpandas\u001b[0m \u001b[1;32mas\u001b[0m \u001b[0mpd\u001b[0m\u001b[1;33m\u001b[0m\u001b[1;33m\u001b[0m\u001b[0m\n\u001b[0m\u001b[0;32m      2\u001b[0m \u001b[1;32mfrom\u001b[0m \u001b[0mdatetime\u001b[0m \u001b[1;32mimport\u001b[0m \u001b[0mdatetime\u001b[0m\u001b[1;33m\u001b[0m\u001b[1;33m\u001b[0m\u001b[0m\n\u001b[0;32m      3\u001b[0m \u001b[1;32mfrom\u001b[0m \u001b[0mmath\u001b[0m \u001b[1;32mimport\u001b[0m \u001b[1;33m*\u001b[0m\u001b[1;33m\u001b[0m\u001b[1;33m\u001b[0m\u001b[0m\n",
      "\u001b[1;31mModuleNotFoundError\u001b[0m: No module named 'pandas'"
     ]
    }
   ],
   "source": [
    "import pandas as pd\n",
    "from datetime import datetime\n",
    "from math import *"
   ]
  },
  {
   "cell_type": "markdown",
   "metadata": {},
   "source": [
    "### 3.6 PEP8介绍\n",
    "\n",
    "Python的PEP8规范是一套关于一致性的风格指南，主要是用于提升代码的可读性。\n",
    "\n",
    "**参考（英文版）：** https://legacy.python.org/dev/peps/pep-0008/\n",
    "\n",
    "**参考（中文版）：** https://blog.csdn.net/ratsniper/article/details/78954852\n",
    "\n",
    "部分规则介绍：\n",
    "\n",
    "* 每一级缩进使用**4个**空格\n",
    "* 所有行限制的最大字符数为**79**\n",
    "* 在二元运算符之前换行\n",
    "* 顶层函数和类的定义，前后用两个空行隔开； 类里的方法定义用一个空行隔开\n",
    "* import通常在分开的行，import总是位于文件的顶部，在模块注释和文档字符串之后，在模块的全局变量与常量之前\n",
    "* 字符串引号可以是单引号或双引号，但整个文件尽量只选用一种并坚持下去\n",
    "* 避免表达式和语句中不必要的空格\n",
    "* 总是在二元运算符两边加一个空格：赋值（=），增量赋值（+=，-=），比较（==,<,>,!=,<>,<=,>=,in,not,in,is,is not），布尔（and, or, not）\n",
    "* 与代码相矛盾的注释比没有注释还糟，当代码更改时，优先更新对应的注释！ \n",
    "* 永远不要使用字母‘l’（小写的L），‘O’（大写的O），或者‘I’（大写的I）作为单字符变量名。\n",
    "* 类名一般使用首字母大写的约定\n",
    "* 函数名应该小写，如果想提高可读性可以用下划线分隔\n",
    "* 常量通常定义在模块级，通过下划线分隔的全大写字母命名。例如： MAX_OVERFLOW 和 TOTAL"
   ]
  },
  {
   "cell_type": "markdown",
   "metadata": {},
   "source": [
    "## 4. Python数值基本知识\n",
    "### 4.1 Python中数值类型，int，float，bool，e记法等\n",
    "\n",
    "* int：整型，如1、2、3\n",
    "* float：浮点型，如3.1415，如果浮点型转为整型， 会直接将小数点后全截断(而不是四舍五入)\n",
    "* bool：布尔型，True = 1, False = 0\n",
    "* e记法：科学计数法，如1.5e3，e表示10，后面的3表示10的三次方，即1.5*10³ = 1500.0"
   ]
  },
  {
   "cell_type": "markdown",
   "metadata": {},
   "source": [
    "### 4.2 算术运算符\n",
    "\n",
    "假设变量a=10， b=20\n",
    "\n",
    "**运算符** | **描述** | **实例**\n",
    "------- | ------- | -------\n",
    "+ | 加法 | a + b 输出结果 30\n",
    "- | 减法 | a - b 输出结果 -10\n",
    "* | 乘法 | a * b 输出结果 200\n",
    "/ | 除法 | b / a 输出结果 2\n",
    "% | 取余 | b % a 输出结果 0\n",
    "\\** | 幂乘 | \ta\\**b 为10的20次方，输出结果 100000000000000000000\n",
    "// | 返回商的整数部分（向下取整） | 9 // 2输出结果4"
   ]
  },
  {
   "cell_type": "markdown",
   "metadata": {},
   "source": [
    "### 4.3 逻辑运算符\n",
    "\n",
    "假设变量a=10， b=20\n",
    "\n",
    "**运算符** | **逻辑表达式** | **描述** | **实例**\n",
    "------- | ------- | ------- | -------\n",
    "and | a and b | 如果a为Fasle, a and b 返回False，否则返回y的计算值 | (a and b)返回20\n",
    "or | a or b | 如果a为非0, 则返回a的计算值, 否则返回y的计算值 | (a or b)返回10\n",
    "not | not a | 如果a为True, 返回False; 如果x为False, 则返回True | not(a and b)返回False"
   ]
  },
  {
   "cell_type": "markdown",
   "metadata": {},
   "source": [
    "### 4.4 成员运算符\n",
    "\n",
    "常用于字符串、列表、元组、字典、集合\n",
    "\n",
    "**运算符** | **描述** | **实例**\n",
    "------- | ------- | -------\n",
    "in | 如果在指定的序列中找到值返回 True，否则返回 False | 'p' in 'python' 输出结果True\n",
    "not in  | 如果在指定的序列中没有找到值返回 True，否则返回 False | 3 not in \\[1,2,'3'\\] 输出结果 True"
   ]
  },
  {
   "cell_type": "markdown",
   "metadata": {},
   "source": [
    "### 4.5 身份运算符\n",
    "\n",
    "用于比较两个对象的存储单元\n",
    "\n",
    "**运算符** | **描述** | **实例**\n",
    "------- | ------- | -------\n",
    "is | 判断两个标识符是不是引用自一个对象 | x is y, 类似 id(x) == id(y) , 如果引用的是同一个对象则返回 True，否则返回 False\n",
    "is not  | 判断两个标识符是不是引用自不同对象 | x is not y ， 类似 id(a) != id(b)"
   ]
  },
  {
   "cell_type": "markdown",
   "metadata": {},
   "source": [
    "### 4.6 运算符优先级\n",
    "\n",
    "以下表格列出了从最高到最低优先级的所有运算符：\n",
    "\n",
    "**运算符** | **描述**\n",
    "------- | -------\n",
    "** | 指数 (最高优先级)\n",
    "~ + - | 按位翻转, 一元加号和减号 (最后两个的方法名为 +@ 和 -@)\n",
    "* / % // | 乘，除，取余和取整除\n",
    "+ -\t | \t加法减法\n",
    ">> << | 右移，左移运算符\n",
    "& | 位 'AND'\n",
    "^ &#124; | 异或、或运算符\n",
    "<= < > >= | 比较运算符\n",
    "<> == != | 等于运算符\n",
    "= %= /= //= -= += \\*= \\*\\*=\t | 赋值运算符\n",
    "is is not | 身份运算符\n",
    "in not in | 成员运算符\n",
    "not and or | 逻辑运算符"
   ]
  }
 ],
 "metadata": {
  "kernelspec": {
   "display_name": "Python 3",
   "language": "python",
   "name": "python3"
  },
  "language_info": {
   "codemirror_mode": {
    "name": "ipython",
    "version": 3
   },
   "file_extension": ".py",
   "mimetype": "text/x-python",
   "name": "python",
   "nbconvert_exporter": "python",
   "pygments_lexer": "ipython3",
   "version": "3.6.8"
  },
  "toc": {
   "base_numbering": 1,
   "nav_menu": {},
   "number_sections": true,
   "sideBar": true,
   "skip_h1_title": false,
   "title_cell": "Table of Contents",
   "title_sidebar": "Contents",
   "toc_cell": false,
   "toc_position": {},
   "toc_section_display": true,
   "toc_window_display": false
  }
 },
 "nbformat": 4,
 "nbformat_minor": 2
}
