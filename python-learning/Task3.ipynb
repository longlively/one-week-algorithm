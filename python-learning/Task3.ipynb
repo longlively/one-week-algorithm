{
 "cells": [
  {
   "cell_type": "markdown",
   "metadata": {},
   "source": [
    "#  任务三\n",
    "\n",
    "## 1. 字典\n",
    "\n",
    "### 1.1 字典概念\n",
    "\n",
    "字典是一种可变容器，可存储任意类型对象。字典的每个键值对(key: value)用冒号(:)分割，每个对之间用逗号(,)分割，整个字典包括在花括号{}中 。\n",
    "\n",
    "**注意：**\n",
    "* 字典是可变的、无序的（所以不可以用下标索引）\n",
    "* 键必须是唯一；值可以重复\n",
    "* 键必须是不可变的，如字符串、数字或元组；值可以取任何数据类型\\\n",
    "\n",
    "### 1.2 基本操作\n",
    "\n",
    "* **创建字典：** d = {'key1': 'value1',  'key2': 'value2' }\n",
    "\n",
    "* **访问字典中的值：** 把相应的键放到方括号\\[\\]中，如d\\['key1'\\]，若没有该键则报错；可以用d.get('key1')访问，没有该键则返回None\n",
    "\n",
    "* **更新字典：** 用d\\[key\\]=value的形式可以对字典的数据项进行修改、添加\n",
    "\n",
    "* **删除字典元素：** d.pop(key, default)可删除并返回键为key的键值对；d.clear()清空字典；del d\\[key\\]对指定的键删除；del d删除整个字典，包括d这个对象\n",
    "\n",
    "* **检查成员：** in、not in，检查元素是否存在于字典的键值中，如 'key1' in d 等同于 'key1' in d.keys()"
   ]
  },
  {
   "cell_type": "code",
   "execution_count": 1,
   "metadata": {},
   "outputs": [
    {
     "name": "stdout",
     "output_type": "stream",
     "text": [
      "{'key1': 'value1', 'key2': 'value2'}\n",
      "value1 value1\n",
      "True True\n"
     ]
    }
   ],
   "source": [
    "d = {'key1': 'value1', 'key2': 'value2' }  # 创建字典\n",
    "print(d)\n",
    "print(d['key1'], d.get('key1'))  # 访问字典\n",
    "d['key3'] = 'value3'  # 更新字典，添加元素\n",
    "del d['key3']  # 删除字典元素\n",
    "print('key1' in d, 'key1' in d.keys())  # 检查成员"
   ]
  },
  {
   "cell_type": "markdown",
   "metadata": {},
   "source": [
    "### 1.3 字典相关函数和方法\n",
    "\n",
    "**函数** | **描述**\n",
    "------- | -------\n",
    "len(dict) | 计算字典元素个数，即键的总数\n",
    "str(dict) | 以字符串形式输出字典，如\"{'key1': 'value1', 'key2': 'value2'}\"\n",
    "max(dict, key=dict.get) | 查找字典最大值(value)的键(key)\n",
    "\n",
    "**方法** | **描述**\n",
    "------- | -------\n",
    "d.clear() | 删除字典内所有元素\n",
    "d.copy() | 返回一个字典的浅复制\n",
    "d.fromkeys(seq, value) | 事先定义一个空字典，然后以seq中元素做字典的键，val为字典所有键对应的初始值,如d.fromkeys(\\['a', 'b'\\], 10)\n",
    "d.get(key, default=None) | 返回指定键的值，如果值不在字典中返回default值\n",
    "key in d | 如果键在字典d里返回True，否则返回False\n",
    "d.items() | 以列表返回可遍历的(键, 值) 元组数组\n",
    "d.keys() &#124; d.values() | 返回一个迭代器，存放字典的keys和values，可以使用 list() 来转换为列表\n",
    "d.keys() | 返回一个迭代器，可以使用 list() 来转换为列表\n",
    "d.setdefault(key, default=None) | 和get()类似, 但如果键不存在于字典中，将会添加键并将值设为default\n",
    "d.update(dict2) | 把字典dict2的键/值对批量更新到d里，类似list的extend()、set的update()\n",
    "d.pop(key, default) | 删除字典给定键 key 所对应的值，返回值为被删除的值，设定default则返回default值。若key不存在则报错\n",
    "d.popitem() | 随机返回并删除字典中的一对键和值(一般删除末尾对)"
   ]
  },
  {
   "cell_type": "code",
   "execution_count": 2,
   "metadata": {},
   "outputs": [
    {
     "name": "stdout",
     "output_type": "stream",
     "text": [
      "{'key1': 'value1', 'key2': 'value2'}\n",
      "dict_items([('key1', 'value1'), ('key2', 'value2')]) dict_keys(['key1', 'key2']) dict_values(['value1', 'value2'])\n"
     ]
    }
   ],
   "source": [
    "d = {'key1': 'value1', 'key2': 'value2' }  # 创建字典\n",
    "print(d)\n",
    "print(d.items(), d.keys(), d.values())"
   ]
  },
  {
   "cell_type": "markdown",
   "metadata": {},
   "source": [
    "## 2. 集合\n",
    "\n",
    "### 2.1 集合概念\n",
    "\n",
    "集合（set）是一个无序的（所以不可以用下标索引）不重复元素序列。注意set里面的元素必须是不可变对象（如字符串、数字、元组等），不能包含list、dict等可变对象。\n",
    "\n",
    "### 2.2 基本操作\n",
    "\n",
    "* **创建集合：** 可以使用大括号 { } 或者 set() 函数创建集合，注意：创建一个空集合必须用 set() 而不是 { }，因为 { } 是用来创建一个空字典\n",
    "\n",
    "* **修改集合：** 可进行增删改，方法见2.3\n",
    "\n",
    "* **检查成员：** in、not in，检查元素是否存在于集合中"
   ]
  },
  {
   "cell_type": "code",
   "execution_count": 3,
   "metadata": {},
   "outputs": [
    {
     "name": "stdout",
     "output_type": "stream",
     "text": [
      "{1, 2, 'a'} {0, 3, 'b'}\n"
     ]
    }
   ],
   "source": [
    "set1 = {1, 2, 'a'}  # 创建集合1\n",
    "set2 = set([0, 'b', 3])  # 创建集合2\n",
    "print(set1, set2)"
   ]
  },
  {
   "cell_type": "markdown",
   "metadata": {},
   "source": [
    "### 2.3 集合相关函数/运算符和方法\n",
    "\n",
    "**函数/运算符** | **描述**\n",
    "------- | -------\n",
    "len(set) | 返回集合中元素的个数\n",
    "set1 &#124; set2 | 返回set1与set2的并集\n",
    "set1 & set2 | 返回set1与set2的交集\n",
    "set1 ^ set2 | 返回set1与set2的对称差集（在set1、set2中存在，但不同时存在于set1、set2的元素）\n",
    "set1 - set2 | 返回set1相对于set2的差集（存在于set1中但不存在与set2中的元素）\n",
    "\n",
    "\n",
    "**方法** | **描述**\n",
    "------- | -------\n",
    "s.add() | 为集合添加元素,每次添加一个\n",
    "s.update() | 为集合添加元素,一次可以添加多个，类似于list的extend()、dict的update()\n",
    "s.clear() | 移除集合中的所有元素\n",
    "s.copy() | 拷贝一个集合\n",
    "s.pop() | 随机移除元素\n",
    "s.discard() | 移除指定元素,若没有不报错\n",
    "s.remove() | 移除指定元素,若没有则报错\n",
    "s1.isdisjoint(s2) | 判断两个集合是否包含相同的元素，如果没有返回 True，否则返回 False\n",
    "s1.issubset(s2) | 判断s1是否为s2的子集\n",
    "s1.issuperset(s2) | 判断s2是否为s1的子集\n",
    "s1.union(s2) | 返回两个集合的并集，即s1 &#124; s2\n",
    "s1.intersection(s2) | 返回s1或s2的交集，即s1 & s2\n",
    "s1.intersection_update(s2) | 返回s1或s2的交集，并更新给s1\n",
    "s1.symmetric_difference(s2) | 返回两个集合的对称差集，即s1 ^ s2\n",
    "s1.symmetric_difference_update(s2) | 返回s1与s2的对称差集，并更新给s1\n",
    "s1.difference(s2) | 返回s1相对于s2的差集，即s1 - s2\n",
    "s1.difference_update(s2) | 返回s1相对于s2的差集，并更新给s1"
   ]
  },
  {
   "cell_type": "code",
   "execution_count": 4,
   "metadata": {},
   "outputs": [
    {
     "name": "stdout",
     "output_type": "stream",
     "text": [
      "并集： {1, 2, 3, 4}\n",
      "交集： {2, 3}\n",
      "对称差集： {1, 4}\n",
      "差集： {1}\n"
     ]
    }
   ],
   "source": [
    "s1 = set([1, 2, 3])\n",
    "s2 = set([2, 3, 4])\n",
    "print('并集：', s1 | s2)\n",
    "print('交集：', s1 & s2)\n",
    "print('对称差集：', s1 ^ s2)\n",
    "print('差集：', s1 - s2)"
   ]
  },
  {
   "cell_type": "markdown",
   "metadata": {},
   "source": [
    "## 3. 判断语句\n",
    "\n",
    "### 3.1 概念\n",
    "\n",
    "条件语句是通过一条或多条语句的执行结果（True或者False）来决定执行的代码块。\n",
    "\n",
    "**注意：**\n",
    "* 每个条件后面要使用冒号(：)，表示接下来是满足条件后要执行的语句块\n",
    "* 使用缩进来划分语句块，相同缩进数的语句在一起组成一个语句块\n",
    "\n",
    "### 3.2 基本形式\n",
    "\n",
    "if condition_1:   \n",
    "&#160;&#160;&#160;&#160;statement_block_1  \n",
    "elif condition_2:  \n",
    "&#160;&#160;&#160;&#160;statement_block_2  \n",
    "else:  \n",
    "&#160;&#160;&#160;&#160;statement_block_3"
   ]
  },
  {
   "cell_type": "code",
   "execution_count": 5,
   "metadata": {},
   "outputs": [
    {
     "name": "stdout",
     "output_type": "stream",
     "text": [
      "3小于或等于5\n"
     ]
    }
   ],
   "source": [
    "if 3 > 5:\n",
    "    print('3大于5')\n",
    "else:\n",
    "    print('3小于或等于5')"
   ]
  },
  {
   "cell_type": "markdown",
   "metadata": {},
   "source": [
    "## 4. 三元表达式\n",
    "\n",
    "### 4.1 概念\n",
    "\n",
    "Python 中的三元表达式目的是得到一个结果，或者进行简单的变量赋值。\n",
    "\n",
    "### 4.2 基本形式\n",
    "\n",
    "为真时的结果&#160;&#160;if&#160;&#160;判断条件&#160;&#160;else&#160;&#160;为假时的结果"
   ]
  },
  {
   "cell_type": "code",
   "execution_count": 6,
   "metadata": {},
   "outputs": [
    {
     "name": "stdout",
     "output_type": "stream",
     "text": [
      "var2\n"
     ]
    }
   ],
   "source": [
    "a = 'var1' if 3 > 5 else 'var2'\n",
    "print(a)"
   ]
  },
  {
   "cell_type": "markdown",
   "metadata": {},
   "source": [
    "## 5. 循环语句\n",
    "\n",
    "### 5.1 概念\n",
    "\n",
    "循环语句是在某种条件下，循环的执行某段代码块，并在符合条件的情况下跳出该段循环，其目的是处理想要进行处理的相同任务，关键词以for、while来标识。\n",
    "\n",
    "### 5.2 for循环基本形式\n",
    "\n",
    "for循环可以遍历任何序列的项目，如一个列表或者一个字符串，else语句可选。\n",
    "\n",
    "for <variable\\> in <sequence\\>:   \n",
    "&#160;&#160;&#160;&#160;statement_block_1  \n",
    "else:  \n",
    "&#160;&#160;&#160;&#160;statement_block_2  \n",
    "\n",
    "### 5.3 while循环基本形式\n",
    "\n",
    "while循环可以通过设置条件表达式永远不为 false 来实现无限循环（按ctrl+c中断循环），else语句可选。\n",
    "\n",
    "while condition:   \n",
    "&#160;&#160;&#160;&#160;statement_block_1  \n",
    "else:  \n",
    "&#160;&#160;&#160;&#160;statement_block_2  \n",
    "\n",
    "### 5.4 break、continue、pass语句\n",
    "\n",
    "* **break：** 用在for和while循环中，用来终止循环语句，即使没有递归完全也会提前终止。如果使用嵌套循环，**break语句将停止执行最深层的循环**，并开始执行下一行代码。\n",
    "* **continue：** 用在for和while循环中，跳过当前循环的剩余语句，然后继续进行下一轮循环。\n",
    "* **pass：** 不做任何事情，一般用做占位语句，为了保持程序结构的完整性。"
   ]
  },
  {
   "cell_type": "code",
   "execution_count": 7,
   "metadata": {},
   "outputs": [
    {
     "name": "stdout",
     "output_type": "stream",
     "text": [
      "0 ,1 ,2 ,3 ,4 ,5 ,6 ,seven"
     ]
    }
   ],
   "source": [
    "while True:\n",
    "    for i in range(10):\n",
    "        if i < 7:\n",
    "            print(i, ',', end='')\n",
    "        elif i == 7:\n",
    "            print('seven', end='')\n",
    "            continue\n",
    "            print('This statement won\\'t be executed!')\n",
    "        else:\n",
    "            pass\n",
    "    break"
   ]
  }
 ],
 "metadata": {
  "kernelspec": {
   "display_name": "Python 3",
   "language": "python",
   "name": "python3"
  },
  "language_info": {
   "codemirror_mode": {
    "name": "ipython",
    "version": 3
   },
   "file_extension": ".py",
   "mimetype": "text/x-python",
   "name": "python",
   "nbconvert_exporter": "python",
   "pygments_lexer": "ipython3",
   "version": "3.7.1"
  }
 },
 "nbformat": 4,
 "nbformat_minor": 2
}
